{
  "cells": [
    {
      "cell_type": "markdown",
      "metadata": {
        "id": "view-in-github",
        "colab_type": "text"
      },
      "source": [
        "<a href=\"https://colab.research.google.com/github/qoyyimil/pba/blob/main/notebooks/1A_Moovit_App_Review.ipynb\" target=\"_parent\"><img src=\"https://colab.research.google.com/assets/colab-badge.svg\" alt=\"Open In Colab\"/></a>"
      ]
    },
    {
      "cell_type": "code",
      "execution_count": 5,
      "metadata": {
        "id": "YPWY5BlY0Apl"
      },
      "outputs": [],
      "source": [
        "# SETUP\n",
        "!pip install -q google-play-scraper PySastrawi nltk emoji regex pandas transformers torch\n"
      ]
    },
    {
      "cell_type": "code",
      "execution_count": 6,
      "metadata": {
        "colab": {
          "base_uri": "https://localhost:8080/"
        },
        "id": "fsfm752P_5iT",
        "outputId": "5177d9cb-e1db-4610-8e81-597b34a587fb"
      },
      "outputs": [
        {
          "output_type": "stream",
          "name": "stdout",
          "text": [
            "Saved RAW  : data/raw/moovit_com.tranzmate_raw_20250902_0230.csv\n",
            "Top 30 tokens (setelah stemming):\n",
            "[('aplikasi', 473), ('bantu', 382), ('sangat', 371), ('dan', 295), ('iklan', 287), ('saya', 285), ('tidak', 278), ('ini', 271), ('ada', 262), ('nya', 223), ('rute', 195), ('jadwal', 190), ('bagus', 187), ('yang', 177), ('bisa', 176), ('gak', 170), ('guna', 160), ('banyak', 160), ('bus', 157), ('untuk', 152), ('akurat', 134), ('jalan', 123), ('waktu', 120), ('banget', 119), ('lagi', 115), ('mau', 110), ('jam', 110), ('tapi', 108), ('jadi', 106), ('sekali', 104)]\n"
          ]
        },
        {
          "output_type": "stream",
          "name": "stderr",
          "text": [
            "Device set to use cpu\n"
          ]
        },
        {
          "output_type": "stream",
          "name": "stdout",
          "text": [
            "\n",
            "Distribusi (baseline dari rating):\n",
            "sentiment_baseline\n",
            "positif    1144\n",
            "negatif     775\n",
            "netral      211\n",
            "Name: count, dtype: int64\n",
            "\n",
            "Distribusi (model Indo):\n",
            "sentiment_model\n",
            "negatif    938\n",
            "positif    937\n",
            "netral     255\n",
            "Name: count, dtype: int64\n",
            "\n",
            "Perbandingan baseline vs model (proporsi per baris baseline):\n",
            "sentiment_model     negatif  netral  positif\n",
            "sentiment_baseline                          \n",
            "negatif               0.848   0.092    0.061\n",
            "netral                0.540   0.223    0.237\n",
            "positif               0.146   0.120    0.734\n",
            "Saved PROC: data/processed/moovit_com.tranzmate_sentiment_20250902_0230.csv\n"
          ]
        }
      ],
      "source": [
        "import pandas as pd, re, emoji, nltk, math, os\n",
        "import nltk\n",
        "from google_play_scraper import reviews_all, Sort\n",
        "from Sastrawi.Stemmer.StemmerFactory import StemmerFactory\n",
        "from nltk import word_tokenize\n",
        "from collections import Counter\n",
        "from transformers import pipeline\n",
        "from datetime import datetime\n",
        "\n",
        "# NLTK resources\n",
        "nltk.download('punkt', quiet=True)\n",
        "try:\n",
        "    nltk.download('punkt_tab', quiet=True)\n",
        "except:\n",
        "    pass\n",
        "\n",
        "APP_ID = \"com.tranzmate\"  # Moovit\n",
        "STAMP  = datetime.now().strftime(\"%Y%m%d_%H%M\")\n",
        "\n",
        "# 0) folders\n",
        "os.makedirs(\"data/raw\", exist_ok=True)\n",
        "os.makedirs(\"data/processed\", exist_ok=True)\n",
        "\n",
        "# 1) SCRAPE\n",
        "raw = reviews_all(\n",
        "    APP_ID,\n",
        "    sleep_milliseconds=300,   # naikkan jika rate-limit\n",
        "    lang='id', country='id',  # fokus bahasa Indonesia\n",
        "    sort=Sort.MOST_RELEVANT\n",
        ")\n",
        "raw_df = pd.DataFrame(raw)\n",
        "\n",
        "# SAVE RAW\n",
        "raw_path = f\"data/raw/moovit_{APP_ID}_raw_{STAMP}.csv\"\n",
        "raw_df.to_csv(raw_path, index=False, encoding=\"utf-8\")\n",
        "print(\"Saved RAW  :\", raw_path)\n",
        "\n",
        "if raw_df.empty:\n",
        "    raise SystemExit(\"Tidak ada ulasan yang diambil. Coba ganti sort/lang/country.\")\n",
        "\n",
        "# 2) CLEANING + BASELINE\n",
        "def clean(s):\n",
        "    s = str(s or \"\").lower()\n",
        "    s = re.sub(r\"http\\S+|www\\.\\S+\", \" \", s)\n",
        "    s = emoji.replace_emoji(s, replace=\" \")\n",
        "    s = re.sub(r\"\\s+\", \" \", s).strip()\n",
        "    return s\n",
        "\n",
        "df = raw_df.copy()\n",
        "df[\"content\"] = df[\"content\"].apply(clean)\n",
        "df = df.dropna(subset=[\"content\"])\n",
        "df = df[df[\"content\"].str.len() > 0].drop_duplicates(subset=[\"content\"]).reset_index(drop=True)\n",
        "\n",
        "def rating2sent(r):\n",
        "    r = int(r)\n",
        "    if r <= 2: return \"negatif\"\n",
        "    if r == 3: return \"netral\"\n",
        "    return \"positif\"\n",
        "\n",
        "df[\"sentiment_baseline\"] = df[\"score\"].astype(int).apply(rating2sent)\n",
        "\n",
        "# 3) STEMMING + TOP TOKENS\n",
        "stemmer = StemmerFactory().create_stemmer()\n",
        "def stemming_tokens(text):\n",
        "    return word_tokenize(stemmer.stem(text))\n",
        "\n",
        "df[\"stemmed_text\"] = df[\"content\"].apply(stemming_tokens)\n",
        "all_tokens = [t for toks in df[\"stemmed_text\"] for t in toks if len(t) > 2]\n",
        "print(\"Top 30 tokens (setelah stemming):\")\n",
        "print(Counter(all_tokens).most_common(30))\n",
        "\n",
        "# 4) MODEL INDO\n",
        "clf = pipeline(\n",
        "    \"text-classification\",\n",
        "    model=\"w11wo/indonesian-roberta-base-sentiment-classifier\",\n",
        "    truncation=True, padding=True, max_length=256\n",
        ")\n",
        "\n",
        "# Batching agar cepat\n",
        "BATCH = 64\n",
        "preds = []\n",
        "for i in range(0, len(df), BATCH):\n",
        "    batch = df[\"content\"].iloc[i:i+BATCH].tolist()\n",
        "    outs = clf(batch)  # [{'label':'positive','score':...}, ...]\n",
        "    preds.extend([o[\"label\"].lower() for o in outs])\n",
        "\n",
        "map_en2id = {\"positive\":\"positif\",\"neutral\":\"netral\",\"negative\":\"negatif\"}\n",
        "df[\"sentiment_model\"] = pd.Series(preds).map(map_en2id).fillna(pd.Series(preds))\n",
        "\n",
        "# 5) RINGKASAN CEPAT\n",
        "print(\"\\nDistribusi (baseline dari rating):\")\n",
        "print(df[\"sentiment_baseline\"].value_counts())\n",
        "\n",
        "print(\"\\nDistribusi (model Indo):\")\n",
        "print(df[\"sentiment_model\"].value_counts())\n",
        "\n",
        "print(\"\\nPerbandingan baseline vs model (proporsi per baris baseline):\")\n",
        "print(pd.crosstab(df[\"sentiment_baseline\"], df[\"sentiment_model\"], normalize=\"index\").round(3))\n",
        "\n",
        "# 6) SIMPAN\n",
        "proc_path = f\"data/processed/moovit_{APP_ID}_sentiment_{STAMP}.csv\"\n",
        "cols = [\"userName\",\"at\",\"appVersion\",\"score\",\"content\",\n",
        "        \"sentiment_baseline\",\"sentiment_model\"]\n",
        "avail_cols = [c for c in cols if c in df.columns]\n",
        "df[avail_cols].to_csv(proc_path, index=False, encoding=\"utf-8\")\n",
        "print(\"Saved PROC:\", proc_path)"
      ]
    }
  ],
  "metadata": {
    "colab": {
      "provenance": [],
      "authorship_tag": "ABX9TyMxfKFl2uy/WBCm8S5hqJqP",
      "include_colab_link": true
    },
    "kernelspec": {
      "display_name": "Python 3",
      "name": "python3"
    },
    "language_info": {
      "name": "python"
    }
  },
  "nbformat": 4,
  "nbformat_minor": 0
}