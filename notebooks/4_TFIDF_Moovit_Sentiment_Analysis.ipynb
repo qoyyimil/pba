{
  "nbformat": 4,
  "nbformat_minor": 0,
  "metadata": {
    "colab": {
      "provenance": [],
      "authorship_tag": "ABX9TyMnopvuOH2Rro/8B684hXuQ",
      "include_colab_link": true
    },
    "kernelspec": {
      "name": "python3",
      "display_name": "Python 3"
    },
    "language_info": {
      "name": "python"
    }
  },
  "cells": [
    {
      "cell_type": "markdown",
      "metadata": {
        "id": "view-in-github",
        "colab_type": "text"
      },
      "source": [
        "<a href=\"https://colab.research.google.com/github/qoyyimil/pba/blob/main/notebooks/4_TFIDF_Moovit_Sentiment_Analysis.ipynb\" target=\"_parent\"><img src=\"https://colab.research.google.com/assets/colab-badge.svg\" alt=\"Open In Colab\"/></a>"
      ]
    },
    {
      "cell_type": "markdown",
      "source": [
        "# TF-IDF & Model Klasifikasi Sentimen\n",
        "Notebook ini bertujuan untuk membangun dan mengevaluasi beberapa model machine learning untuk klasifikasi sentimen pada ulasan aplikasi Moovit menggunakan representasi TF-IDF."
      ],
      "metadata": {
        "id": "q-jjeoEQe9vp"
      }
    },
    {
      "cell_type": "code",
      "execution_count": 1,
      "metadata": {
        "colab": {
          "base_uri": "https://localhost:8080/"
        },
        "id": "ULfwmfTSe3WK",
        "outputId": "41541c86-b6b4-45f9-b71f-37cb0ef4737b"
      },
      "outputs": [
        {
          "output_type": "stream",
          "name": "stdout",
          "text": [
            "Requirement already satisfied: pandas in /usr/local/lib/python3.12/dist-packages (2.2.2)\n",
            "Requirement already satisfied: numpy>=1.26.0 in /usr/local/lib/python3.12/dist-packages (from pandas) (2.0.2)\n",
            "Requirement already satisfied: python-dateutil>=2.8.2 in /usr/local/lib/python3.12/dist-packages (from pandas) (2.9.0.post0)\n",
            "Requirement already satisfied: pytz>=2020.1 in /usr/local/lib/python3.12/dist-packages (from pandas) (2025.2)\n",
            "Requirement already satisfied: tzdata>=2022.7 in /usr/local/lib/python3.12/dist-packages (from pandas) (2025.2)\n",
            "Requirement already satisfied: six>=1.5 in /usr/local/lib/python3.12/dist-packages (from python-dateutil>=2.8.2->pandas) (1.17.0)\n",
            "Requirement already satisfied: seaborn in /usr/local/lib/python3.12/dist-packages (0.13.2)\n",
            "Requirement already satisfied: numpy!=1.24.0,>=1.20 in /usr/local/lib/python3.12/dist-packages (from seaborn) (2.0.2)\n",
            "Requirement already satisfied: pandas>=1.2 in /usr/local/lib/python3.12/dist-packages (from seaborn) (2.2.2)\n",
            "Requirement already satisfied: matplotlib!=3.6.1,>=3.4 in /usr/local/lib/python3.12/dist-packages (from seaborn) (3.10.0)\n",
            "Requirement already satisfied: contourpy>=1.0.1 in /usr/local/lib/python3.12/dist-packages (from matplotlib!=3.6.1,>=3.4->seaborn) (1.3.3)\n",
            "Requirement already satisfied: cycler>=0.10 in /usr/local/lib/python3.12/dist-packages (from matplotlib!=3.6.1,>=3.4->seaborn) (0.12.1)\n",
            "Requirement already satisfied: fonttools>=4.22.0 in /usr/local/lib/python3.12/dist-packages (from matplotlib!=3.6.1,>=3.4->seaborn) (4.60.1)\n",
            "Requirement already satisfied: kiwisolver>=1.3.1 in /usr/local/lib/python3.12/dist-packages (from matplotlib!=3.6.1,>=3.4->seaborn) (1.4.9)\n",
            "Requirement already satisfied: packaging>=20.0 in /usr/local/lib/python3.12/dist-packages (from matplotlib!=3.6.1,>=3.4->seaborn) (25.0)\n",
            "Requirement already satisfied: pillow>=8 in /usr/local/lib/python3.12/dist-packages (from matplotlib!=3.6.1,>=3.4->seaborn) (11.3.0)\n",
            "Requirement already satisfied: pyparsing>=2.3.1 in /usr/local/lib/python3.12/dist-packages (from matplotlib!=3.6.1,>=3.4->seaborn) (3.2.5)\n",
            "Requirement already satisfied: python-dateutil>=2.7 in /usr/local/lib/python3.12/dist-packages (from matplotlib!=3.6.1,>=3.4->seaborn) (2.9.0.post0)\n",
            "Requirement already satisfied: pytz>=2020.1 in /usr/local/lib/python3.12/dist-packages (from pandas>=1.2->seaborn) (2025.2)\n",
            "Requirement already satisfied: tzdata>=2022.7 in /usr/local/lib/python3.12/dist-packages (from pandas>=1.2->seaborn) (2025.2)\n",
            "Requirement already satisfied: six>=1.5 in /usr/local/lib/python3.12/dist-packages (from python-dateutil>=2.7->matplotlib!=3.6.1,>=3.4->seaborn) (1.17.0)\n",
            "Requirement already satisfied: matplotlib in /usr/local/lib/python3.12/dist-packages (3.10.0)\n",
            "Requirement already satisfied: contourpy>=1.0.1 in /usr/local/lib/python3.12/dist-packages (from matplotlib) (1.3.3)\n",
            "Requirement already satisfied: cycler>=0.10 in /usr/local/lib/python3.12/dist-packages (from matplotlib) (0.12.1)\n",
            "Requirement already satisfied: fonttools>=4.22.0 in /usr/local/lib/python3.12/dist-packages (from matplotlib) (4.60.1)\n",
            "Requirement already satisfied: kiwisolver>=1.3.1 in /usr/local/lib/python3.12/dist-packages (from matplotlib) (1.4.9)\n",
            "Requirement already satisfied: numpy>=1.23 in /usr/local/lib/python3.12/dist-packages (from matplotlib) (2.0.2)\n",
            "Requirement already satisfied: packaging>=20.0 in /usr/local/lib/python3.12/dist-packages (from matplotlib) (25.0)\n",
            "Requirement already satisfied: pillow>=8 in /usr/local/lib/python3.12/dist-packages (from matplotlib) (11.3.0)\n",
            "Requirement already satisfied: pyparsing>=2.3.1 in /usr/local/lib/python3.12/dist-packages (from matplotlib) (3.2.5)\n",
            "Requirement already satisfied: python-dateutil>=2.7 in /usr/local/lib/python3.12/dist-packages (from matplotlib) (2.9.0.post0)\n",
            "Requirement already satisfied: six>=1.5 in /usr/local/lib/python3.12/dist-packages (from python-dateutil>=2.7->matplotlib) (1.17.0)\n",
            "Requirement already satisfied: scikit-learn in /usr/local/lib/python3.12/dist-packages (1.6.1)\n",
            "Requirement already satisfied: numpy>=1.19.5 in /usr/local/lib/python3.12/dist-packages (from scikit-learn) (2.0.2)\n",
            "Requirement already satisfied: scipy>=1.6.0 in /usr/local/lib/python3.12/dist-packages (from scikit-learn) (1.16.2)\n",
            "Requirement already satisfied: joblib>=1.2.0 in /usr/local/lib/python3.12/dist-packages (from scikit-learn) (1.5.2)\n",
            "Requirement already satisfied: threadpoolctl>=3.1.0 in /usr/local/lib/python3.12/dist-packages (from scikit-learn) (3.6.0)\n"
          ]
        }
      ],
      "source": [
        "# --- Instalasi Library ---\n",
        "!pip install pandas\n",
        "!pip install seaborn\n",
        "!pip install matplotlib\n",
        "!pip install scikit-learn\n",
        "\n",
        "# --- Import Library ---\n",
        "import pandas as pd\n",
        "import numpy as np\n",
        "import re\n",
        "\n",
        "# -- Library untuk Visualisasi --\n",
        "import seaborn as sns\n",
        "import matplotlib.pyplot as plt\n",
        "\n",
        "# -- Library untuk TF-IDF & Machine Learning --\n",
        "from sklearn.model_selection import train_test_split\n",
        "from sklearn.feature_extraction.text import TfidfVectorizer\n",
        "from sklearn.naive_bayes import MultinomialNB\n",
        "from sklearn.linear_model import LogisticRegression\n",
        "from sklearn.svm import LinearSVC\n",
        "from sklearn.metrics import accuracy_score, classification_report\n",
        "\n",
        "# --- Konfigurasi Tampilan ---\n",
        "pd.set_option(\"display.max_colwidth\", 200)\n",
        "%matplotlib inline\n",
        "%config InlineBackend.figure_format='retina'\n",
        "sns.set_style(\"whitegrid\")"
      ]
    },
    {
      "cell_type": "code",
      "source": [
        "# Load dataset yang sudah bersih\n",
        "try:\n",
        "    df = pd.read_csv('moovit_reviews_cleaned.csv')\n",
        "except FileNotFoundError:\n",
        "    print(\"File 'moovit_reviews_cleaned.csv' tidak ditemukan.\")\n",
        "else:\n",
        "    # Menangani nilai NaN di final_content jika ada\n",
        "    df.dropna(subset=['final_content'], inplace=True)\n",
        "\n",
        "    # --- Membuat Label Sentimen Biner ---\n",
        "    # Kita akan mengklasifikasikan skor 4 & 5 sebagai 'positif' (1)\n",
        "    # dan skor 1 & 2 sebagai 'negatif' (0).\n",
        "    # Skor 3 (netral) akan kita abaikan untuk menyederhanakan masalah.\n",
        "    df['sentiment'] = df['score'].apply(lambda x: 1 if x > 3 else (0 if x < 3 else -1))\n",
        "    df_model = df[df['sentiment'] != -1].copy() # Buat DataFrame baru tanpa ulasan netral\n",
        "\n",
        "    print(\"Dataset bersih berhasil dimuat.\")\n",
        "    print(f\"Jumlah data setelah membuang ulasan netral: {len(df_model)} baris.\")\n",
        "    print(\"\\nDistribusi Sentimen:\")\n",
        "    print(df_model['sentiment'].value_counts())\n",
        "    df_model.head()"
      ],
      "metadata": {
        "colab": {
          "base_uri": "https://localhost:8080/"
        },
        "id": "x06woOuOfDIG",
        "outputId": "55967c34-9448-49c2-e177-7046725a0103"
      },
      "execution_count": 2,
      "outputs": [
        {
          "output_type": "stream",
          "name": "stdout",
          "text": [
            "Dataset bersih berhasil dimuat.\n",
            "Jumlah data setelah membuang ulasan netral: 1982 baris.\n",
            "\n",
            "Distribusi Sentimen:\n",
            "sentiment\n",
            "1    1203\n",
            "0     779\n",
            "Name: count, dtype: int64\n"
          ]
        }
      ]
    },
    {
      "cell_type": "code",
      "source": [
        "# Tentukan variabel X (fitur) dan y (target/label)\n",
        "X = df_model['final_content']\n",
        "y = df_model['sentiment']\n",
        "\n",
        "# Bagi data menjadi 80% data latih dan 20% data uji\n",
        "X_train, X_test, y_train, y_test = train_test_split(\n",
        "    X,\n",
        "    y,\n",
        "    test_size=0.2,\n",
        "    random_state=42, # random_state agar hasil pembagian data selalu sama\n",
        "    stratify=y # stratify agar proporsi sentimen di data latih dan uji sama\n",
        ")\n",
        "\n",
        "print(\"Ukuran data latih:\", X_train.shape[0])\n",
        "print(\"Ukuran data uji:\", X_test.shape[0])"
      ],
      "metadata": {
        "colab": {
          "base_uri": "https://localhost:8080/"
        },
        "id": "QIRZnBm1fMBs",
        "outputId": "11880402-b6f5-4620-e017-ce3a7b316b39"
      },
      "execution_count": 3,
      "outputs": [
        {
          "output_type": "stream",
          "name": "stdout",
          "text": [
            "Ukuran data latih: 1585\n",
            "Ukuran data uji: 397\n"
          ]
        }
      ]
    },
    {
      "cell_type": "code",
      "source": [
        "# Inisialisasi TfidfVectorizer dengan min_df, max_df, dan n-gram\n",
        "tfidf = TfidfVectorizer(\n",
        "    min_df=5,           # Abaikan kata yang muncul di < 5 ulasan (membuang typo)\n",
        "    max_df=0.8,         # Abaikan kata yang muncul di > 80% ulasan (membuang stopwords)\n",
        "    ngram_range=(1, 2)  # Melihat kata tunggal DAN pasangan kata (mis: \"tidak akurat\")\n",
        ")\n",
        "\n",
        "# Terapkan TF-IDF hanya pada data latih (X_train)\n",
        "X_train_tfidf = tfidf.fit_transform(X_train)\n",
        "\n",
        "# Terapkan transformasi yang sama pada data uji (X_test)\n",
        "X_test_tfidf = tfidf.transform(X_test)\n",
        "\n",
        "print(\"Bentuk matriks TF-IDF untuk data latih (baru):\", X_train_tfidf.shape)\n",
        "print(\"Bentuk matriks TF-IDF untuk data uji (baru):\", X_test_tfidf.shape)"
      ],
      "metadata": {
        "colab": {
          "base_uri": "https://localhost:8080/"
        },
        "id": "4KhZKKT8fN5j",
        "outputId": "f6fe7d34-0385-45a4-c138-8c2bc963781b"
      },
      "execution_count": 11,
      "outputs": [
        {
          "output_type": "stream",
          "name": "stdout",
          "text": [
            "Bentuk matriks TF-IDF untuk data latih (baru): (1585, 270)\n",
            "Bentuk matriks TF-IDF untuk data uji (baru): (397, 270)\n"
          ]
        }
      ]
    },
    {
      "cell_type": "markdown",
      "source": [
        "## Tahap Pelatihan & Evaluasi Model\n",
        "Sekarang data kita sudah dalam bentuk numerik (TF-IDF), kita akan melatih tiga model klasifikasi yang populer untuk tugas analisis sentimen:\n",
        "1.  **Logistic Regression**: Model yang baik sebagai *baseline*, cepat, dan mudah diinterpretasikan.\n",
        "2.  **Multinomial Naive Bayes**: Model probabilistik yang sangat efektif untuk klasifikasi teks.\n",
        "3.  **Linear Support Vector Machine (LinearSVC)**: Seringkali menjadi salah satu model dengan performa terbaik untuk data teks.\n",
        "\n",
        "Kita akan mengevaluasi setiap model berdasarkan akurasinya pada data uji."
      ],
      "metadata": {
        "id": "atGPJvUUfZHW"
      }
    },
    {
      "cell_type": "code",
      "source": [
        "# Inisialisasi model Logistic Regression\n",
        "log_reg = LogisticRegression(random_state=42)\n",
        "\n",
        "print(\"--- Melatih Model Logistic Regression ---\")\n",
        "# Latih model menggunakan data TF-IDF\n",
        "log_reg.fit(X_train_tfidf, y_train)\n",
        "\n",
        "# Lakukan prediksi pada data uji\n",
        "y_pred_log_reg = log_reg.predict(X_test_tfidf)\n",
        "\n",
        "# Evaluasi performa model\n",
        "accuracy_log_reg = accuracy_score(y_test, y_pred_log_reg)\n",
        "print(f\"\\nAkurasi Logistic Regression: {accuracy_log_reg:.4f}\")\n",
        "\n",
        "print(\"\\nLaporan Klasifikasi:\")\n",
        "print(classification_report(y_test, y_pred_log_reg, target_names=['Negatif', 'Positif']))"
      ],
      "metadata": {
        "colab": {
          "base_uri": "https://localhost:8080/"
        },
        "id": "SCqhZDPsfOf3",
        "outputId": "72f311a4-dc0a-4943-ac6e-321c1f8a5a99"
      },
      "execution_count": 12,
      "outputs": [
        {
          "output_type": "stream",
          "name": "stdout",
          "text": [
            "--- Melatih Model Logistic Regression ---\n",
            "\n",
            "Akurasi Logistic Regression: 0.8111\n",
            "\n",
            "Laporan Klasifikasi:\n",
            "              precision    recall  f1-score   support\n",
            "\n",
            "     Negatif       0.78      0.72      0.75       156\n",
            "     Positif       0.83      0.87      0.85       241\n",
            "\n",
            "    accuracy                           0.81       397\n",
            "   macro avg       0.80      0.79      0.80       397\n",
            "weighted avg       0.81      0.81      0.81       397\n",
            "\n"
          ]
        }
      ]
    },
    {
      "cell_type": "code",
      "source": [
        "# Inisialisasi model Multinomial Naive Bayes\n",
        "naive_bayes = MultinomialNB()\n",
        "\n",
        "print(\"--- Melatih Model Multinomial Naive Bayes ---\")\n",
        "# Latih model\n",
        "naive_bayes.fit(X_train_tfidf, y_train)\n",
        "\n",
        "# Lakukan prediksi\n",
        "y_pred_nb = naive_bayes.predict(X_test_tfidf)\n",
        "\n",
        "# Evaluasi performa\n",
        "accuracy_nb = accuracy_score(y_test, y_pred_nb)\n",
        "print(f\"\\nAkurasi Multinomial Naive Bayes: {accuracy_nb:.4f}\")\n",
        "\n",
        "print(\"\\nLaporan Klasifikasi:\")\n",
        "print(classification_report(y_test, y_pred_nb, target_names=['Negatif', 'Positif']))"
      ],
      "metadata": {
        "colab": {
          "base_uri": "https://localhost:8080/"
        },
        "id": "7kPraqd0fgLz",
        "outputId": "4c17f841-ae4f-4f70-df8c-e0c55771412a"
      },
      "execution_count": 13,
      "outputs": [
        {
          "output_type": "stream",
          "name": "stdout",
          "text": [
            "--- Melatih Model Multinomial Naive Bayes ---\n",
            "\n",
            "Akurasi Multinomial Naive Bayes: 0.8161\n",
            "\n",
            "Laporan Klasifikasi:\n",
            "              precision    recall  f1-score   support\n",
            "\n",
            "     Negatif       0.79      0.72      0.76       156\n",
            "     Positif       0.83      0.88      0.85       241\n",
            "\n",
            "    accuracy                           0.82       397\n",
            "   macro avg       0.81      0.80      0.80       397\n",
            "weighted avg       0.81      0.82      0.81       397\n",
            "\n"
          ]
        }
      ]
    },
    {
      "cell_type": "code",
      "source": [
        "# Inisialisasi model LinearSVC\n",
        "linear_svc = LinearSVC(random_state=42)\n",
        "\n",
        "print(\"--- Melatih Model Linear Support Vector Machine (SVC) ---\")\n",
        "# Latih model\n",
        "linear_svc.fit(X_train_tfidf, y_train)\n",
        "\n",
        "# Lakukan prediksi\n",
        "y_pred_svc = linear_svc.predict(X_test_tfidf)\n",
        "\n",
        "# Evaluasi performa\n",
        "accuracy_svc = accuracy_score(y_test, y_pred_svc)\n",
        "print(f\"\\nAkurasi Linear SVC: {accuracy_svc:.4f}\")\n",
        "\n",
        "print(\"\\nLaporan Klasifikasi:\")\n",
        "print(classification_report(y_test, y_pred_svc, target_names=['Negatif', 'Positif']))"
      ],
      "metadata": {
        "colab": {
          "base_uri": "https://localhost:8080/"
        },
        "id": "B0i6lvbnfjtR",
        "outputId": "39f7e800-a82c-4cf7-8fef-c482f4e42ce3"
      },
      "execution_count": 14,
      "outputs": [
        {
          "output_type": "stream",
          "name": "stdout",
          "text": [
            "--- Melatih Model Linear Support Vector Machine (SVC) ---\n",
            "\n",
            "Akurasi Linear SVC: 0.8186\n",
            "\n",
            "Laporan Klasifikasi:\n",
            "              precision    recall  f1-score   support\n",
            "\n",
            "     Negatif       0.79      0.74      0.76       156\n",
            "     Positif       0.84      0.87      0.85       241\n",
            "\n",
            "    accuracy                           0.82       397\n",
            "   macro avg       0.81      0.80      0.81       397\n",
            "weighted avg       0.82      0.82      0.82       397\n",
            "\n"
          ]
        }
      ]
    },
    {
      "cell_type": "markdown",
      "source": [
        "## Perbandingan Performa Model\n",
        "Terakhir, kita bandingkan akurasi dari ketiga model untuk menentukan mana yang terbaik untuk dataset kita."
      ],
      "metadata": {
        "id": "OGRUn9h3fmW9"
      }
    },
    {
      "cell_type": "code",
      "source": [
        "# Buat DataFrame untuk perbandingan\n",
        "model_accuracies = {\n",
        "    'Model': ['Logistic Regression', 'Naive Bayes', 'Linear SVC'],\n",
        "    'Akurasi': [accuracy_log_reg, accuracy_nb, accuracy_svc]\n",
        "}\n",
        "df_comparison = pd.DataFrame(model_accuracies).sort_values(by='Akurasi', ascending=False)\n",
        "\n",
        "print(\"--- Perbandingan Akurasi Model ---\")\n",
        "print(df_comparison)\n",
        "\n",
        "# Visualisasi\n",
        "plt.figure(figsize=(10, 6))\n",
        "sns.barplot(data=df_comparison, x='Akurasi', y='Model', palette='rocket')\n",
        "plt.title('Perbandingan Akurasi Model Klasifikasi Sentimen', fontsize=16, pad=20)\n",
        "plt.xlabel('Akurasi', fontsize=12)\n",
        "plt.ylabel('Model', fontsize=12)\n",
        "plt.xlim(0.5, 1.0) # Set limit sumbu x agar lebih mudah dibaca\n",
        "\n",
        "# Menambahkan label pada bar\n",
        "for index, value in enumerate(df_comparison['Akurasi']):\n",
        "    plt.text(value + 0.01, index, f'{value:.4f}', va='center')\n",
        "\n",
        "plt.show()"
      ],
      "metadata": {
        "colab": {
          "base_uri": "https://localhost:8080/",
          "height": 783
        },
        "id": "5tDws9m5fkr8",
        "outputId": "3b6d86ac-d885-440d-d69c-93e41e84a2b5"
      },
      "execution_count": 15,
      "outputs": [
        {
          "output_type": "stream",
          "name": "stdout",
          "text": [
            "--- Perbandingan Akurasi Model ---\n",
            "                 Model   Akurasi\n",
            "2           Linear SVC  0.818640\n",
            "1          Naive Bayes  0.816121\n",
            "0  Logistic Regression  0.811083\n"
          ]
        },
        {
          "output_type": "stream",
          "name": "stderr",
          "text": [
            "/tmp/ipython-input-3632400925.py:13: FutureWarning: \n",
            "\n",
            "Passing `palette` without assigning `hue` is deprecated and will be removed in v0.14.0. Assign the `y` variable to `hue` and set `legend=False` for the same effect.\n",
            "\n",
            "  sns.barplot(data=df_comparison, x='Akurasi', y='Model', palette='rocket')\n"
          ]
        },
        {
          "output_type": "display_data",
          "data": {
            "text/plain": [
              "<Figure size 1000x600 with 1 Axes>"
            ],
            "image/png": "[encoded data removed]"
          },
          "metadata": {
            "image/png": {
              "width": 970,
              "height": 572
            }
          }
        }
      ]
    },
    {
      "cell_type": "markdown",
      "source": [
        "## Menjalankan Skrip TF-IDF Eksternal\n",
        "Di bagian ini, kita akan menjalankan skrip `TFIDF.py` dari repositori GitHub yang diberikan untuk menghitung skor TF-IDF pada dataset kita. Ini adalah latihan untuk memahami implementasi TF-IDF dari dasar.\n",
        "\n",
        "Langkah-langkahnya adalah:\n",
        "1.  Mengunduh skrip `TFIDF.py` dari GitHub.\n",
        "2.  Mempersiapkan data kita: mengubah kolom `final_content` dari file CSV menjadi sebuah file teks (`.txt`), karena skrip tersebut membaca file teks.\n",
        "3.  Menjalankan skrip tersebut menggunakan data teks kita."
      ],
      "metadata": {
        "id": "71gQ2L25f5mC"
      }
    },
    {
      "cell_type": "code",
      "source": [
        "import pandas as pd\n",
        "import numpy as np\n",
        "from collections import Counter\n",
        "from numpy.linalg import norm\n",
        "import nltk\n",
        "nltk.download('stopwords')\n",
        "\n",
        "\n",
        "class ManualTFIDF:\n",
        "    def __init__(self, corpus_list):\n",
        "        \"\"\"\n",
        "        Inisialisasi dengan sebuah list of strings (dokumen yang sudah bersih).\n",
        "        Contoh: df['final_content'].tolist()\n",
        "        \"\"\"\n",
        "        self.corpus = corpus_list\n",
        "        self.vocabulary = list(set(word for doc in self.corpus for word in doc.split()))\n",
        "\n",
        "    def calculate_tf(self):\n",
        "        \"\"\"Menghitung Term Frequency (TF)\"\"\"\n",
        "        tf_data = []\n",
        "        for doc in self.corpus:\n",
        "            doc_counts = Counter(doc.split())\n",
        "            # Hanya hitung kata yang ada di vocabulary\n",
        "            tf_doc = {word: doc_counts.get(word, 0) for word in self.vocabulary}\n",
        "            tf_data.append(tf_doc)\n",
        "        return pd.DataFrame(tf_data)\n",
        "\n",
        "    def calculate_idf(self, tf_df):\n",
        "        \"\"\"Menghitung Inverse Document Frequency (IDF)\"\"\"\n",
        "        num_documents = len(self.corpus)\n",
        "        # Hitung di berapa dokumen setiap kata muncul\n",
        "        df = (tf_df > 0).sum(axis=0)\n",
        "        # Rumus IDF\n",
        "        idf = np.log((num_documents + 1) / (df + 1)) + 1\n",
        "        return idf\n",
        "\n",
        "    def fit_transform(self):\n",
        "        \"\"\"Menghitung dan mengembalikan matriks TF-IDF\"\"\"\n",
        "        tf_df = self.calculate_tf()\n",
        "        idf_vector = self.calculate_idf(tf_df)\n",
        "\n",
        "        # Perkalian TF dengan IDF\n",
        "        tfidf_matrix = tf_df.multiply(idf_vector, axis=1)\n",
        "\n",
        "        # Normalisasi L2 (opsional, tapi praktik yang baik)\n",
        "        norms = norm(tfidf_matrix, axis=1)\n",
        "        # Hindari pembagian dengan nol\n",
        "        norms[norms == 0] = 1\n",
        "\n",
        "        normalized_tfidf = tfidf_matrix.div(norms, axis=0)\n",
        "\n",
        "        return normalized_tfidf"
      ],
      "metadata": {
        "colab": {
          "base_uri": "https://localhost:8080/"
        },
        "id": "L4AKW6U7f6qe",
        "outputId": "7c72b404-ee53-472e-a849-a12a4267e662"
      },
      "execution_count": 16,
      "outputs": [
        {
          "output_type": "stream",
          "name": "stderr",
          "text": [
            "[nltk_data] Downloading package stopwords to /root/nltk_data...\n",
            "[nltk_data]   Package stopwords is already up-to-date!\n"
          ]
        }
      ]
    },
    {
      "cell_type": "code",
      "source": [
        "# Siapkan data input (sebuah list dari semua ulasan bersih)\n",
        "corpus_list = df_model['final_content'].tolist()\n",
        "\n",
        "# Inisialisasi dan jalankan class ManualTFIDF\n",
        "manual_tfidf_calculator = ManualTFIDF(corpus_list)\n",
        "tfidf_result_df = manual_tfidf_calculator.fit_transform()\n",
        "\n",
        "print(\"--- Hasil Matriks TF-IDF (Manual) ---\")\n",
        "print(\"Bentuk Matriks:\", tfidf_result_df.shape)\n",
        "print(\"\\n--- Contoh Hasil (5 baris pertama, 10 kolom dengan skor tertinggi) ---\")\n",
        "\n",
        "# Menampilkan 10 kata dengan skor IDF tertinggi (kata paling informatif)\n",
        "top_idf_words = tfidf_result_df.sum().nlargest(10).index\n",
        "print(tfidf_result_df.head()[top_idf_words])\n",
        "\n",
        "# Menampilkan skor TF-IDF untuk kata-kata kunci\n",
        "print(\"\\n--- Skor TF-IDF untuk beberapa kata kunci ---\")\n",
        "keywords = ['iklan', 'rute', 'jadwal', 'bayar', 'mudah', 'akurat']\n",
        "# Filter kolom yang ada di DataFrame\n",
        "existing_keywords = [k for k in keywords if k in tfidf_result_df.columns]\n",
        "print(tfidf_result_df[existing_keywords].head())"
      ],
      "metadata": {
        "id": "oqyhiKWbhCTx",
        "outputId": "b2e682c7-2153-497e-fc8f-06edb19f94a9",
        "colab": {
          "base_uri": "https://localhost:8080/"
        }
      },
      "execution_count": 17,
      "outputs": [
        {
          "output_type": "stream",
          "name": "stdout",
          "text": [
            "--- Hasil Matriks TF-IDF (Manual) ---\n",
            "Bentuk Matriks: (1982, 956)\n",
            "\n",
            "--- Contoh Hasil (5 baris pertama, 10 kolom dengan skor tertinggi) ---\n",
            "   oke     iklan  mantap    akurat  jalan  jadwal      rute  mudah    sesuai  \\\n",
            "0  0.0  0.000000     0.0  1.000000    0.0     0.0  0.000000    0.0  0.000000   \n",
            "1  0.0  0.260682     0.0  0.000000    0.0     0.0  0.000000    0.0  0.331516   \n",
            "2  0.0  0.000000     0.0  0.727497    0.0     0.0  0.686111    0.0  0.000000   \n",
            "3  0.0  0.000000     0.0  0.000000    0.0     0.0  0.000000    0.0  0.000000   \n",
            "4  0.0  0.297530     0.0  0.000000    0.0     0.0  0.000000    0.0  0.000000   \n",
            "\n",
            "   bus  \n",
            "0  0.0  \n",
            "1  0.0  \n",
            "2  0.0  \n",
            "3  0.0  \n",
            "4  0.0  \n",
            "\n",
            "--- Skor TF-IDF untuk beberapa kata kunci ---\n",
            "      iklan      rute  jadwal  bayar  mudah    akurat\n",
            "0  0.000000  0.000000     0.0    0.0    0.0  1.000000\n",
            "1  0.260682  0.000000     0.0    0.0    0.0  0.000000\n",
            "2  0.000000  0.686111     0.0    0.0    0.0  0.727497\n",
            "3  0.000000  0.000000     0.0    0.0    0.0  0.000000\n",
            "4  0.297530  0.000000     0.0    0.0    0.0  0.000000\n"
          ]
        }
      ]
    }
  ]
}